{
 "cells": [
  {
   "cell_type": "code",
   "execution_count": 1,
   "metadata": {},
   "outputs": [
    {
     "name": "stdout",
     "output_type": "stream",
     "text": [
      "Secons: 1.192373514175415\n",
      "Result:  199999990000000\n"
     ]
    }
   ],
   "source": [
    "import time\n",
    "from threading import Thread\n",
    "\n",
    "def do_work(start, end, result):\n",
    "    sum = 0\n",
    "    for i in range(start, end):\n",
    "        sum += i\n",
    "    result.append(sum)\n",
    "    return\n",
    "\n",
    "if __name__ == '__main__':\n",
    "    start_time = time.time()\n",
    "    START, END = 0, 20000000\n",
    "    result = list()\n",
    "    \n",
    "    th1 = Thread(target=do_work, args=(START, END, result))\n",
    "    th1.start()\n",
    "    th1.join()\n",
    "    print('Secons: %s' %(time.time()-start_time))\n",
    "    \n",
    "print('Result: ', sum(result))"
   ]
  },
  {
   "cell_type": "code",
   "execution_count": 2,
   "metadata": {},
   "outputs": [
    {
     "name": "stdout",
     "output_type": "stream",
     "text": [
      "Seconds: 1.252685308456421\n",
      "Result:  199999990000000\n"
     ]
    }
   ],
   "source": [
    "import time\n",
    "from threading import Thread\n",
    "\n",
    "def do_work(start, end, result):\n",
    "    sum = 0\n",
    "    for i in range(start, end):\n",
    "        sum += i\n",
    "    result.append(sum)\n",
    "    return\n",
    "\n",
    "if __name__ == '__main__':\n",
    "    start_time = time.time()\n",
    "    START, END = 0, 20000000\n",
    "    result = list()\n",
    "    \n",
    "    th1 = Thread(target=do_work, args=(START, int(END/2), result))\n",
    "    th2 = Thread(target=do_work, args=(int(END/2), END, result))\n",
    "    th1.start()\n",
    "    th2.start()\n",
    "    th1.join()\n",
    "    th2.join()\n",
    "    print('Seconds: %s' %(time.time()-start_time))\n",
    "    \n",
    "print('Result: ', sum(result))"
   ]
  },
  {
   "cell_type": "code",
   "execution_count": 6,
   "metadata": {},
   "outputs": [
    {
     "name": "stdout",
     "output_type": "stream",
     "text": [
      "0 20000000\n",
      "Seconds: 0.12269854545593262\n",
      "Result []\n",
      "Result:  0\n"
     ]
    }
   ],
   "source": [
    "import time\n",
    "from multiprocessing import Process, Queue\n",
    "\n",
    "def do_work(start, end, result):\n",
    "    sum = 0\n",
    "    print(start, end)\n",
    "    for i in range(start, end):\n",
    "        sum += i\n",
    "    #result.put(sum)\n",
    "    print(sum)\n",
    "    result.append(sum)\n",
    "    return\n",
    "\n",
    "if __name__ == '__main__':\n",
    "    start_time = time.time()\n",
    "    START, END = 0, 20000000\n",
    "    result = list()\n",
    "    #result = Queue()\n",
    "    print(START, END)\n",
    "    pr1 = Process(target=do_work, args=(START, int(END/2), result))\n",
    "    pr2 = Process(target=do_work, args=(int(END/2), END, result))\n",
    "    pr1.start()\n",
    "    pr2.start()\n",
    "    pr1.join()\n",
    "    pr2.join()\n",
    "    #result.put('STOP')\n",
    "    \n",
    "    #sum = 0\n",
    "    #while True:\n",
    "    #    tmp = result.get()\n",
    "    #    if tmp=='STOP':\n",
    "    #        print('Seconds: %s' %(time.time()-start_time))\n",
    "    #        break\n",
    "    #    else:\n",
    "    #        print(tmp)\n",
    "    #        sum += tmp\n",
    "    print('Seconds: %s' %(time.time()-start_time))\n",
    "    print('Result', result)\n",
    "    \n",
    "print('Result: ', sum(result))"
   ]
  },
  {
   "cell_type": "code",
   "execution_count": null,
   "metadata": {},
   "outputs": [],
   "source": []
  }
 ],
 "metadata": {
  "kernelspec": {
   "display_name": "Python 3",
   "language": "python",
   "name": "python3"
  },
  "language_info": {
   "codemirror_mode": {
    "name": "ipython",
    "version": 3
   },
   "file_extension": ".py",
   "mimetype": "text/x-python",
   "name": "python",
   "nbconvert_exporter": "python",
   "pygments_lexer": "ipython3",
   "version": "3.7.4"
  }
 },
 "nbformat": 4,
 "nbformat_minor": 2
}
